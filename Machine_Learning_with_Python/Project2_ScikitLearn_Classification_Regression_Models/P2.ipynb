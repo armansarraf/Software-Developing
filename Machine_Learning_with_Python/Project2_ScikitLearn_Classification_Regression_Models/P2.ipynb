{
 "cells": [
  {
   "cell_type": "markdown",
   "metadata": {
    "tags": []
   },
   "source": [
    "# Lab1 - Scikit-learn\n",
    "Author: Arman Hosseinsarraf\n",
    "\n",
    "## 1. Overview\n",
    "\n",
    "At the end, you are asked to answer the following questions in **Section 5.1 Questions** in the notebook:\n",
    "\n",
    "1. For each task (classification and regression), which model performs best on the validation data using all features?\n",
    "2. For each task (classification and regression), which model performs best on the validation data using two principal components?\n",
    "3. In each task (classification and regression), for each model, how do full feature and two principal component model scores compare on the validation data?\n",
    "4. Do any of the models underfit or overfit? Provide examples."
   ]
  },
  {
   "cell_type": "code",
   "execution_count": 1,
   "metadata": {},
   "outputs": [],
   "source": [
    "import numpy as np\n",
    "import pandas as pd\n",
    "import matplotlib.pyplot as plt\n",
    "import seaborn as sns"
   ]
  },
  {
   "cell_type": "markdown",
   "metadata": {},
   "source": [
    "## 2. Function definitions"
   ]
  },
  {
   "cell_type": "code",
   "execution_count": 2,
   "metadata": {},
   "outputs": [],
   "source": [
    "from sklearn.model_selection import train_test_split\n",
    "from sklearn.metrics import accuracy_score\n",
    "\n",
    "def get_classifier_accuracy(model, X, y):\n",
    "    '''Calculate train and validation accuracy of classifier (model)\n",
    "        \n",
    "        Splits feature matrix X and target vector y \n",
    "        with sklearn train_test_split() and random_state=956.\n",
    "        \n",
    "        model (sklearn classifier): Classifier to train and evaluate\n",
    "        X (numpy.array or pandas.DataFrame): Feature matrix\n",
    "        y (numpy.array or pandas.Series): Target vector\n",
    "        \n",
    "        returns: training accuracy, validation accuracy\n",
    "    \n",
    "    '''\n",
    "    \n",
    "    #TODO: IMPLEMENT FUNCTION BODY\n",
    "    X_train, X_test, y_train, y_test = train_test_split(X, y, random_state=956)\n",
    "    \n",
    "    model.fit(X_train, y_train)\n",
    "    y_pred_training = model.predict(X_train)\n",
    "    y_pred = model.predict(X_test)\n",
    "    \n",
    "    training_accuracy = round(accuracy_score(y_train, y_pred_training), 3)\n",
    "    validation_accuracy = round(accuracy_score(y_test, y_pred), 3)\n",
    "\n",
    "    return training_accuracy, validation_accuracy"
   ]
  },
  {
   "cell_type": "code",
   "execution_count": 3,
   "metadata": {},
   "outputs": [],
   "source": [
    "from sklearn.metrics import mean_squared_error\n",
    "from sklearn.model_selection import train_test_split\n",
    "\n",
    "def get_regressor_mse(model, X, y):\n",
    "    '''Calculate train and validation mean-squared error (mse) of regressor (model)\n",
    "        \n",
    "        Splits feature matrix X and target vector y \n",
    "        with sklearn train_test_split() and random_state=956.\n",
    "        \n",
    "        model (sklearn regressor): Regressor to train and evaluate\n",
    "        X (numpy.array or pandas.DataFrame): Feature matrix\n",
    "        y (numpy.array or pandas.Series): Target vector\n",
    "        \n",
    "        returns: training mse, validation mse\n",
    "    \n",
    "    '''\n",
    "   \n",
    "    #TODO: IMPLEMENT FUNCTION BODY\n",
    "    X_train, X_test, y_train, y_test = train_test_split(X, y, random_state=956)\n",
    "    \n",
    "    model.fit(X_train,y_train)\n",
    "    yfit_train = model.predict(X_train)\n",
    "    yfit = model.predict(X_test)\n",
    "    \n",
    "    training_accuracy = round(mean_squared_error(y_train, yfit_train), 1)\n",
    "    validation_accuracy = round(mean_squared_error(y_test, yfit), 1)\n",
    "\n",
    "    return training_accuracy, validation_accuracy"
   ]
  },
  {
   "cell_type": "code",
   "execution_count": 4,
   "metadata": {},
   "outputs": [],
   "source": [
    "from sklearn.decomposition import PCA\n",
    "\n",
    "def get_n_principal_components(X, n=2):\n",
    "    '''Extracts n principal componets from feature matrix X using sklearn PCA.\n",
    "        X (pandas.DataFrame): A feature matrix\n",
    "        n (int): number of principal components\n",
    "        \n",
    "        returns: feature matrix with n columns as numpy.array\n",
    "    '''\n",
    "    \n",
    "    #TODO: IMPLEMENT FUNCTION BODY\n",
    "    model = PCA(n_components=n)\n",
    "    model.fit(X)\n",
    "    X_nD = model.transform(X)\n",
    "    \n",
    "    return X_nD"
   ]
  },
  {
   "cell_type": "markdown",
   "metadata": {},
   "source": [
    "## 3. Classification\n",
    "\n",
    "Using yellowbrick spam - classification  \n",
    "https://www.scikit-yb.org/en/latest/api/datasets/spam.html\n",
    "\n",
    "The goal is to compare `LogisticRegression(max_iter=2000)` and `RandomForestClassifier(random_state=88)` classification performance on a validation set with full features and first two principal components."
   ]
  },
  {
   "cell_type": "markdown",
   "metadata": {},
   "source": [
    "### 3.1 Load data\n",
    "\n",
    "Load the spam data set into feature matrix `X` and target vector `y`.\n",
    "\n",
    "Call `get_n_principal_components()` to obtain feature matrix `X_2D` containing the first two principal components.\n",
    "\n",
    "Print dimensions and type of `X`, `y`, and `X_2D`.\n"
   ]
  },
  {
   "cell_type": "code",
   "execution_count": 5,
   "metadata": {},
   "outputs": [
    {
     "name": "stdout",
     "output_type": "stream",
     "text": [
      "Dimension of X is: (4600, 57), and type of X is: <class 'pandas.core.frame.DataFrame'>\n",
      "Dimension of y is: (4600,), and type of X is: <class 'pandas.core.series.Series'>\n",
      "Dimension of X_2D is: (4600, 2), and type of X is: <class 'numpy.ndarray'>\n"
     ]
    }
   ],
   "source": [
    "# TODO: ADD YOUR CODE HERE\n",
    "from yellowbrick.datasets import load_spam\n",
    "X , y = load_spam(data_home=None, return_dataset=False)\n",
    "X_2D = get_n_principal_components(X, 2)\n",
    "\n",
    "print(f\"Dimension of X is: {X.shape}, and type of X is: {type(X)}\")\n",
    "print(f\"Dimension of y is: {y.shape}, and type of X is: {type(y)}\")\n",
    "print(f\"Dimension of X_2D is: {X_2D.shape}, and type of X is: {type(X_2D)}\")"
   ]
  },
  {
   "cell_type": "markdown",
   "metadata": {},
   "source": [
    "### 3.2 Train and evaluate models\n",
    "\n",
    "1. Import `LogisticRegression` and `RandomForestClassifier` from sklearn\n",
    "2. Instantiate models `LogisticRegression(max_iter=2000)` and `RandomForestClassifier(random_state=88)` in a list.\n",
    "3. create a for loop iterating the models list:\n",
    "    - Call `get_classifier_accuracy()` using all features, i.e. `X`.\n",
    "    - Call `get_classifier_accuracy()` using PCA features, i.e. `X_2D`.\n",
    "    - Print training and validation accuracy for both. Limit output to **3 decimal places**."
   ]
  },
  {
   "cell_type": "code",
   "execution_count": 6,
   "metadata": {
    "scrolled": true
   },
   "outputs": [
    {
     "name": "stdout",
     "output_type": "stream",
     "text": [
      "Model is:LogisticRegression(max_iter=2000), for all features --> training accuracy, validation accuracy: (0.934, 0.918)\n",
      "Model is:LogisticRegression(max_iter=2000), for PCA features --> training accuracy, validation accuracy: (0.729, 0.725)\n",
      "\n",
      "Model is:RandomForestClassifier(random_state=88), for all features --> training accuracy, validation accuracy: (0.999, 0.944)\n",
      "Model is:RandomForestClassifier(random_state=88), for PCA features --> training accuracy, validation accuracy: (0.999, 0.771)\n",
      "\n"
     ]
    }
   ],
   "source": [
    "# TODO: ADD YOUR CODE HERE\n",
    "from sklearn.linear_model import LogisticRegression\n",
    "from sklearn.ensemble import RandomForestClassifier\n",
    "\n",
    "logistic_reg = LogisticRegression(max_iter=2000)\n",
    "random_forest = RandomForestClassifier(random_state=88)\n",
    "\n",
    "models=[logistic_reg, random_forest]\n",
    "\n",
    "for model in models:\n",
    "    print(f\"Model is:{model}, for all features --> training accuracy, validation accuracy: {get_classifier_accuracy(model, X, y)}\")\n",
    "    print(f\"Model is:{model}, for PCA features --> training accuracy, validation accuracy: {get_classifier_accuracy(model, X_2D, y)}\\n\")"
   ]
  },
  {
   "cell_type": "markdown",
   "metadata": {},
   "source": [
    "### 3.3 Plot PCA feautures\n",
    "Use a Seaborn `scatterplot` to visulaize the two PCA components using the lables in `y` as `hue`.\n",
    "\n",
    "Label x- and y-axis and add a title."
   ]
  },
  {
   "cell_type": "code",
   "execution_count": 7,
   "metadata": {},
   "outputs": [
    {
     "data": {
      "text/plain": [
       "<AxesSubplot:>"
      ]
     },
     "execution_count": 7,
     "metadata": {},
     "output_type": "execute_result"
    },
    {
     "data": {
      "image/png": "[encoded data removed]",
      "text/plain": [
       "<Figure size 576x396 with 1 Axes>"
      ]
     },
     "metadata": {},
     "output_type": "display_data"
    }
   ],
   "source": [
    "# TODO: ADD YOUR CODE HERE\n",
    "sns.scatterplot(x=X_2D[:,0], y=X_2D[:, 1], hue=y)"
   ]
  },
  {
   "cell_type": "markdown",
   "metadata": {},
   "source": [
    "## 4. Regression\n",
    "\n",
    "Using yellowbrick energy - regression  \n",
    "https://www.scikit-yb.org/en/latest/api/datasets/energy.html\n",
    "\n",
    "The goal is to compare `LinearRegression()` and `RandomForestRegressor(random_state=88)` regression performance on a validation set with full features and first two principal components."
   ]
  },
  {
   "cell_type": "markdown",
   "metadata": {},
   "source": [
    "### 4.1 Load data\n",
    "\n",
    "Load the energy data set into feature matrix `X` and target vector `y`.\n",
    "\n",
    "Call `get_n_principal_components()` to obtain feature matrix `X_2D` containing the first two principal components.\n",
    "\n",
    "Print dimensions and type of `X`, `y`, and `X_2D`."
   ]
  },
  {
   "cell_type": "code",
   "execution_count": 8,
   "metadata": {},
   "outputs": [
    {
     "name": "stdout",
     "output_type": "stream",
     "text": [
      "Dimension of X is: (768, 8), and type of X is: <class 'pandas.core.frame.DataFrame'>\n",
      "Dimension of y is: (768,), and type of X is: <class 'pandas.core.series.Series'>\n",
      "Dimension of X_2D is: (768, 2), and type of X is: <class 'numpy.ndarray'>\n"
     ]
    }
   ],
   "source": [
    "# TODO: ADD YOUR CODE HERE\n",
    "from yellowbrick.datasets import load_energy\n",
    "X_energy , y_energy = load_energy(data_home=None, return_dataset=False)\n",
    "X_2D_energy = get_n_principal_components(X_energy, 2)\n",
    "\n",
    "print(f\"Dimension of X is: {X_energy.shape}, and type of X is: {type(X_energy)}\")\n",
    "print(f\"Dimension of y is: {y_energy.shape}, and type of X is: {type(y_energy)}\")\n",
    "print(f\"Dimension of X_2D is: {X_2D_energy.shape}, and type of X is: {type(X_2D_energy)}\")"
   ]
  },
  {
   "cell_type": "markdown",
   "metadata": {},
   "source": [
    "### 4.2 Train and evaluate models\n",
    "\n",
    "1. Import `LinearRegression` and `RandomForestRegressor` from sklearn\n",
    "2. Instantiate models `LinearRegression()` and `RandomForestRegressor(random_state=88)` in a list.\n",
    "3. create a for loop iterating the models list:\n",
    "    - Call `get_regressor_mse()` using all features, i.e. `X`.\n",
    "    - Call `get_regressor_mse()` using PCA features, i.e. `X_2D`.\n",
    "    - Print training and validation accuracy for both. Limit output to **1 decimal place**."
   ]
  },
  {
   "cell_type": "code",
   "execution_count": 9,
   "metadata": {},
   "outputs": [
    {
     "name": "stdout",
     "output_type": "stream",
     "text": [
      "Model is:LinearRegression(), for all features --> training mse, validation mse: (8.0, 10.3)\n",
      "Model is:LinearRegression(), for PCA features --> training mse, validation mse: (22.2, 19.6)\n",
      "\n",
      "Model is:RandomForestRegressor(random_state=88), for all features --> training mse, validation mse: (0.0, 0.2)\n",
      "Model is:RandomForestRegressor(random_state=88), for PCA features --> training mse, validation mse: (9.6, 8.6)\n",
      "\n"
     ]
    }
   ],
   "source": [
    "# TODO: ADD YOUR CODE HERE\n",
    "from sklearn.linear_model import LinearRegression\n",
    "from sklearn.ensemble import RandomForestRegressor\n",
    "\n",
    "linear_reg = LinearRegression()\n",
    "random_regressor = RandomForestRegressor(random_state=88)\n",
    "\n",
    "models = [linear_reg, random_regressor]\n",
    "\n",
    "for model in models:\n",
    "    print(f\"Model is:{model}, for all features --> training mse, validation mse: {get_regressor_mse(model, X_energy, y_energy)}\")\n",
    "    print(f\"Model is:{model}, for PCA features --> training mse, validation mse: {get_regressor_mse(model, X_2D_energy, y_energy)}\\n\")\n"
   ]
  },
  {
   "cell_type": "markdown",
   "metadata": {},
   "source": [
    "### 4.3 Plot PCA feautures\n",
    "Use a Seaborn `scatterplot` to visulaize the two PCA components using the values in `y` as `hue` and `size`.\n",
    "\n",
    "Label x- and y-axis and add a title."
   ]
  },
  {
   "cell_type": "code",
   "execution_count": 10,
   "metadata": {},
   "outputs": [
    {
     "data": {
      "text/plain": [
       "<AxesSubplot:>"
      ]
     },
     "execution_count": 10,
     "metadata": {},
     "output_type": "execute_result"
    },
    {
     "data": {
      "image/png": "[encoded data removed]",
      "text/plain": [
       "<Figure size 576x396 with 1 Axes>"
      ]
     },
     "metadata": {},
     "output_type": "display_data"
    }
   ],
   "source": [
    "# TODO: ADD YOUR CODE HERE\n",
    "sns.scatterplot(x=X_2D_energy[:,0], y=X_2D_energy[:, 1], hue=y_energy, size=y_energy)"
   ]
  },
  {
   "cell_type": "markdown",
   "metadata": {},
   "source": [
    "## 5. Observations/Interpretation"
   ]
  },
  {
   "cell_type": "markdown",
   "metadata": {},
   "source": [
    "### 5.1 Questions\n",
    "1. For each task (classification and regression), which model performs best on the validation data using all features?\n",
    "\n",
    "**Classification:**  \n",
    "\n",
    "RandomForestClassifier \n",
    "\n",
    "**Regression:**  \n",
    "\n",
    "RandomForestRegressor\n",
    "\n",
    "2. For each task (classification and regression), which model performs best on the validation data using two principal components?\n",
    "\n",
    "**Classification:**  \n",
    "\n",
    "RandomForestClassifier\n",
    "\n",
    "**Regression:**  \n",
    "\n",
    "RandomForestRegressor\n",
    "\n",
    "3. In each task (classification and regression), for each model, how do full feature and two principal component model scores compare on the validation data?\n",
    "\n",
    "**Classification:**  \n",
    "\n",
    "LogisticRegression all features --> validation accuracy: 0.918\n",
    "LogisticRegression 2 PCA features --> validation accuracy: 0.725\n",
    "\n",
    "RandomForestClassifier all features --> validation accuracy: 0.944\n",
    "RandomForestClassifier 2 PCA features --> validation accuracy: 0.771\n",
    "\n",
    "LogisticRegression: The comparison shows that the LogisticRegression model trained using all the features outperformed the same model trained by two principal components.\n",
    "\n",
    "RandomForestClassifier: The comparison shows that the RandomForestClassifier model trained using all the features outperformed the same model trained by two principal components.\n",
    "\n",
    "**Regression:**  \n",
    "\n",
    "LinearRegression all features --> validation mse: 10.3\n",
    "LinearRegression 2 PCA features --> validation mse: 19.6\n",
    "\n",
    "RandomForestRegressor all features --> validation mse: 0.2\n",
    "RandomForestRegressor 2 PCA features --> validation mse: 8.6\n",
    "\n",
    "LinearRegression: The comparison shows that the LinearRegression model trained using all the features outperformed the same model trained by two principal components.\n",
    "\n",
    "RandomForestRegressor: The comparison shows that the RandomForestRegressor model trained using all the features outperformed the same model trained by two principal components.\n",
    "\n",
    "4. Do any of the models underfit or overfit? Provide examples.\n",
    "\n",
    "**Underfitting**   \n",
    "\n",
    "The LogisticRegression model trained by 2 PCA features producing the training accuracy, validation accuracy:(0.729, 0.725) is relatively underfitting compared to RandomForestClassifier.\n",
    "\n",
    "The LinearRegression model trained by 2 PCA features producing the training mse, validation mse: (22.2, 19.6) is relatively underfitting compared to RandomForestRegressor.\n",
    "\n",
    "One reason to support this finding could be a lower number of features (only two PCA features) used for training those two models mentioned above.\n",
    "\n",
    "**Overfitting**   \n",
    "\n",
    "Although no golden standard exists to demonstrate when a model is overfitting, the RandomForestClassifier model trained using 2 PCA features seems to be overfitting due to a slightly meaningful difference of 22% between training and validation scores (0.999, 0.771).\n",
    "\n",
    "### 5.2 Conclusion\n",
    "Conclude on any one pattern you see emerge in your answers to questions above. Include the data to justify your conclusion.\n",
    "\n",
    "The results from classification and regression models indicate that the models trained by all the features outperformed the models trained by only 2 PCA features.\n",
    "In this experiment, the analysis shows that applying the PCA to the dataset reduced the dimensionality of the data so that the models saw less number of samples during training.\n",
    "For example, the RandomForestClassifier trained by all features produced a validation accuracy score of 0.944 whereas the same model trained by 2 PCA features produced a validation accuracy of 0.771.\n",
    "The same pattern is seen for the LogisticRegression classifier."
   ]
  },
  {
   "cell_type": "markdown",
   "metadata": {},
   "source": [
    "## 6. Reflection\n",
    "Include a sentence or two about:\n",
    "- what you liked or disliked,\n",
    "- found interesting, confusing, challangeing, motivating\n",
    "while working on this assignment.\n",
    "\n",
    "\n",
    "This assignment enabled me to implement classification and regression models and perform the evaluation analysis using the broadly used sklearn library.\n",
    "The first interesting observation was a lower validation mse than training mse happened to LinearRegression for 2 PCA features training mse, validation mse: (22.2, 19.6).\n",
    "The second interesting while confusing item was the principal component analysis. I did some research and some scientist have different opinions to apply PCA since the use of this technique is challenging as we are not certain if the performance of the modeling improves or not.\n"
   ]
  },
  {
   "cell_type": "code",
   "execution_count": null,
   "metadata": {},
   "outputs": [],
   "source": []
  }
 ],
 "metadata": {
  "kernelspec": {
   "display_name": "Python 3",
   "language": "python",
   "name": "python3"
  },
  "language_info": {
   "codemirror_mode": {
    "name": "ipython",
    "version": 3
   },
   "file_extension": ".py",
   "mimetype": "text/x-python",
   "name": "python",
   "nbconvert_exporter": "python",
   "pygments_lexer": "ipython3",
   "version": "3.8.8"
  }
 },
 "nbformat": 4,
 "nbformat_minor": 4
}
