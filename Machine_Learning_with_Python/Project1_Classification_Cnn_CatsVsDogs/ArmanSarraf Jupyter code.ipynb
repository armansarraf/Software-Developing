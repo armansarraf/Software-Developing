{
 "cells": [
  {
   "cell_type": "code",
   "execution_count": 1,
   "metadata": {},
   "outputs": [],
   "source": [
    "import cv2\n",
    "import numpy as np\n",
    "import os\n",
    "from random import shuffle\n",
    "from tqdm import tqdm\n",
    "import glob\n",
    "TRAIN_DIR = 'E:/University/Project/train'\n",
    "TEST_DIR = 'E:/University/Project/testwithlabel'\n",
    "LR = 1e-3\n",
    "\n",
    "#MODEL_NAME = 'model_2_layers_withoutdropout_32'\n"
   ]
  },
  {
   "cell_type": "code",
   "execution_count": 2,
   "metadata": {},
   "outputs": [],
   "source": [
    "def label_img(img):\n",
    "    word_label = img.split('.')[-3]\n",
    "    if word_label == 'cat':\n",
    "        return [1, 0]\n",
    "    elif word_label == 'dog':\n",
    "        return [0, 1]\n"
   ]
  },
  {
   "cell_type": "code",
   "execution_count": 3,
   "metadata": {},
   "outputs": [],
   "source": [
    "def create_train_data(fname,img_size):\n",
    "    training_data = []\n",
    "    for img in tqdm(os.listdir(TRAIN_DIR)):\n",
    "        label = label_img(img)\n",
    "        path = os.path.join(TRAIN_DIR, img)\n",
    "        img = cv2.resize(cv2.imread(path, cv2.IMREAD_GRAYSCALE), (img_size, img_size))\n",
    "        training_data.append([np.array(img)/255., np.array(label)])\n",
    "    shuffle(training_data)\n",
    "    np.save(fname + '.npy', training_data)\n",
    "    return training_data\n"
   ]
  },
  {
   "cell_type": "code",
   "execution_count": 4,
   "metadata": {},
   "outputs": [],
   "source": [
    "def create_test_data(fname,img_size):\n",
    "    testing_data = []\n",
    "    for img in tqdm(os.listdir(TEST_DIR)):\n",
    "        path = os.path.join(TEST_DIR, img)\n",
    "        img_num = img.split('.')[0]\n",
    "        img = cv2.resize(cv2.imread(path, cv2.IMREAD_GRAYSCALE), (img_size, img_size))\n",
    "        testing_data.append([np.array(img)/255, img_num])\n",
    "\n",
    "    np.save(fname + '.npy', testing_data)\n",
    "    return testing_data"
   ]
  },
  {
   "cell_type": "code",
   "execution_count": 5,
   "metadata": {},
   "outputs": [
    {
     "name": "stderr",
     "output_type": "stream",
     "text": [
      "100%|███████████████████████████████████| 25000/25000 [01:33<00:00, 267.32it/s]\n"
     ]
    }
   ],
   "source": [
    "#IMG_SIZE =  [64]\n",
    "\n",
    "#for imgsize in IMG_SIZE:\n",
    "    #fname = \"Training_\"+str(imgsize)\n",
    "    #create_train_data(fname,imgsize)\n",
    "    #fname = \"Testing_\"+str(imgsize)\n",
    "    #create_test_data(fname,imgsize)\n"
   ]
  },
  {
   "cell_type": "code",
   "execution_count": null,
   "metadata": {},
   "outputs": [],
   "source": [
    "import tflearn\n",
    "from tflearn.layers.conv import conv_2d, max_pool_2d\n",
    "from tflearn.layers.core import input_data, dropout, fully_connected\n",
    "from tflearn.layers.estimator import regression\n",
    "\n",
    "import tensorflow as tf\n",
    "tf.reset_default_graph()"
   ]
  },
  {
   "cell_type": "code",
   "execution_count": null,
   "metadata": {},
   "outputs": [],
   "source": [
    "def modelgen(layer, drop=False):\n",
    "    convnet = input_data(shape=[None, IMG_SIZEE, IMG_SIZEE, 1], name='input')\n",
    "    if layer < 3:\n",
    "        convnet = conv_2d(convnet, 32, 3, activation='relu')\n",
    "        convnet = max_pool_2d(convnet, 2)\n",
    "        convnet = conv_2d(convnet, 64, 3, activation='relu')\n",
    "        convnet = max_pool_2d(convnet, 2)\n",
    "    if layer < 4:\n",
    "        convnet = conv_2d(convnet, 128, 3, activation='relu')\n",
    "        convnet = max_pool_2d(convnet, 2)\n",
    "    if layer < 5:\n",
    "        convnet = conv_2d(convnet, 256, 3, activation='relu')\n",
    "        convnet = max_pool_2d(convnet, 2)\n",
    "    convnet = fully_connected(convnet, 1024, activation='relu')\n",
    "    if drop:\n",
    "        convnet = dropout(convnet, 0.8)\n",
    "    convnet = fully_connected(convnet, 2, activation='softmax')\n",
    "    convnet = regression(convnet, optimizer='adam', learning_rate=LR, loss='categorical_crossentropy', name='targets')\n",
    "    model = tflearn.DNN(convnet, tensorboard_dir='log')\n",
    "    return model"
   ]
  },
  {
   "cell_type": "code",
   "execution_count": null,
   "metadata": {
    "scrolled": true
   },
   "outputs": [],
   "source": [
    "layers = [2] #(changeble between 2,3)\n",
    "listtraining = ['Training_32.npy'] #((changeble between 32,64)\n",
    "dropoutflag = [True] #(changeble between true, false)\n",
    "for trainnpy in listtraining:\n",
    "    testnpy = trainnpy.replace('Training_','Testing_')\n",
    "    IMG_SIZEE = int(trainnpy.replace('.npy', '').replace('Training_', ''))\n",
    "    train = []\n",
    "    test = []\n",
    "    train_data = np.load('Training_32.npy', allow_pickle=True)\n",
    "    # test = np.load(testnpy, allow_pickle=True)\n",
    "    train = train_data[:-1000]\n",
    "    test = train_data[-1000:]\n",
    "    X = 0\n",
    "    Y = 0\n",
    "    X = np.array([i[0] for i in train]).reshape(-1, IMG_SIZEE, IMG_SIZEE, 1)\n",
    "    Y = [i[1] for i in train]\n",
    "    test_x = 0 \n",
    "    test_y = 0\n",
    "    test_x = np.array([i[0] for i in test]).reshape(-1, IMG_SIZEE, IMG_SIZEE, 1)\n",
    "    test_y = [i[1] for i in test]\n",
    "    for ll in layers: # 3 sets of models\n",
    "        for dd in dropoutflag: # 2 sets of dropout\n",
    "            MODEL_NAME = trainnpy.replace('.npy','').replace('Training_','')\n",
    "            if dd:\n",
    "                MODEL_NAME = \"model_\" + str(ll) + '_layers_' + \"withdropout_\" + MODEL_NAME\n",
    "            else:\n",
    "                MODEL_NAME = \"model_\" + str(ll) + '_layers_' + \"withoutdropout_\" + MODEL_NAME\n",
    "            model = False\n",
    "            model= modelgen(ll, dd)\n",
    "            model.fit({'input': X}, {'targets': Y}, n_epoch=30,validation_set=({'input': test_x}, {'targets': test_y}),\n",
    "                      snapshot_step=500, show_metric=True, run_id=MODEL_NAME)\n",
    "            model.save(MODEL_NAME)"
   ]
  },
  {
   "cell_type": "code",
   "execution_count": null,
   "metadata": {
    "scrolled": true
   },
   "outputs": [],
   "source": [
    "IMG_SIZEE = [32, 64]\n",
    "imgsize = IMG_SIZEE\n",
    "VAL_DIR = 'E:/University/Project/testwithlabel'\n",
    "fname = \"TestingWithLabel_\"+str(imgsize)\n",
    "create_validation_data(fname,IMG_SIZEE)\n",
    "fname"
   ]
  },
  {
   "cell_type": "code",
   "execution_count": null,
   "metadata": {},
   "outputs": [],
   "source": [
    "IMG_SIZEE = 64\n",
    "model = modelgen(2,True)"
   ]
  },
  {
   "cell_type": "code",
   "execution_count": null,
   "metadata": {},
   "outputs": [],
   "source": [
    "test_data = np.load('TestingWithLabel_64.npy', allow_pickle=True)\n",
    "#train = test_data[:-1000]\n",
    "#test = test_data[-1000:]\n",
    "X = 0\n",
    "Y = 0\n",
    "X = np.array([i[0] for i in test_data]).reshape(-1, IMG_SIZEE, IMG_SIZEE, 1)\n",
    "Y = [i[1] for i in test_data]"
   ]
  },
  {
   "cell_type": "code",
   "execution_count": null,
   "metadata": {
    "scrolled": false
   },
   "outputs": [],
   "source": [
    "model_name = 'model_2_layers_withdropout_64'\n",
    "model.load(model_name)"
   ]
  },
  {
   "cell_type": "code",
   "execution_count": null,
   "metadata": {},
   "outputs": [],
   "source": [
    "y_pred = model.predict(X)"
   ]
  },
  {
   "cell_type": "code",
   "execution_count": null,
   "metadata": {
    "scrolled": true
   },
   "outputs": [],
   "source": [
    "y_classes = y_pred.argmax(axis=-1)"
   ]
  },
  {
   "cell_type": "code",
   "execution_count": null,
   "metadata": {},
   "outputs": [],
   "source": [
    "newY= np.array(Y)\n",
    "newY[:5]"
   ]
  },
  {
   "cell_type": "code",
   "execution_count": null,
   "metadata": {
    "scrolled": true
   },
   "outputs": [],
   "source": [
    "y_true = newY.argmax(axis=-1)"
   ]
  },
  {
   "cell_type": "code",
   "execution_count": null,
   "metadata": {
    "scrolled": true
   },
   "outputs": [],
   "source": [
    "from sklearn.metrics import classification_report\n",
    "from sklearn.metrics import accuracy_score \n",
    "print(\"=======>\",model_name, \"<=======\")\n",
    "print(classification_report(y_true, y_classes, labels=[1,0]))\n",
    "print('accuracy_score = ',accuracy_score(y_true, y_classes))"
   ]
  },
  {
   "cell_type": "code",
   "execution_count": null,
   "metadata": {},
   "outputs": [],
   "source": []
  }
 ],
 "metadata": {
  "kernelspec": {
   "display_name": "Python 3",
   "language": "python",
   "name": "python3"
  },
  "language_info": {
   "codemirror_mode": {
    "name": "ipython",
    "version": 3
   },
   "file_extension": ".py",
   "mimetype": "text/x-python",
   "name": "python",
   "nbconvert_exporter": "python",
   "pygments_lexer": "ipython3",
   "version": "3.7.4"
  }
 },
 "nbformat": 4,
 "nbformat_minor": 2
}
